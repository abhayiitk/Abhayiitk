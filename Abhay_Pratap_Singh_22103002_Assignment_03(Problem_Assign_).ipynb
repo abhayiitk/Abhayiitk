{
  "nbformat": 4,
  "nbformat_minor": 0,
  "metadata": {
    "colab": {
      "provenance": [],
      "authorship_tag": "ABX9TyOuMM9HDG148EuJBimmbIUJ",
      "include_colab_link": true
    },
    "kernelspec": {
      "name": "python3",
      "display_name": "Python 3"
    },
    "language_info": {
      "name": "python"
    }
  },
  "cells": [
    {
      "cell_type": "markdown",
      "metadata": {
        "id": "view-in-github",
        "colab_type": "text"
      },
      "source": [
        "<a href=\"https://colab.research.google.com/github/abhayiitk/Abhayiitk/blob/main/Abhay_Pratap_Singh_22103002_Assignment_03(Problem_Assign_).ipynb\" target=\"_parent\"><img src=\"https://colab.research.google.com/assets/colab-badge.svg\" alt=\"Open In Colab\"/></a>"
      ]
    },
    {
      "cell_type": "markdown",
      "source": [
        "##**Problem Solving Assignment - 01**\n",
        "####**Name - Abhay Pratap singh**\n",
        "####**Roll no. - 22103002**\n",
        "####**Course - CE-605**\n",
        "\n",
        "---\n",
        "\n",
        "\n"
      ],
      "metadata": {
        "id": "J1AUdI1KZvtH"
      }
    },
    {
      "cell_type": "markdown",
      "source": [
        "####**Question-01**\n",
        "####**Explanation-**\n",
        "The probability associated with an event must always be a positive real number for several important reasons:\n",
        "\n",
        "\n",
        "1. **Interpretation:** The concept of Probability represents the likelihood or chance of an event occurring. It quantifies our degree of belief in the occurrence of an event. A negative probability would imply a belief in the event's impossibility, which contradicts the fundamental idea of probability as a measure of possibility.\n",
        "2.**Non-Negativity Axiom:** In probability theory, there is a fundamental principle known as the non-negativity axiom. This axiom states that the probability of any event must be a non-negative real number, meaning it can be zero or any positive value but cannot be negative. Violating this axiom would undermine the mathematical foundations of probability theory.\n",
        "3. **Mathematical Consistency:** Probability theory relies on mathematical operations such as addition, multiplication, and integration. Negative probabilities would introduce significant mathematical complications, making it challenging to perform these operations consistently and meaningfully.\n",
        "4. **Physical Interpretation:** Probability is often applied in various real-world contexts, including science, engineering, economics, and more. Negative probabilities would not have any physical interpretation or meaning in these contexts, making it impractical to use them.\n",
        "5. **Bayesian Inference:** Bayesian statistics, a widely used approach in statistics and machine learning, depends on probabilities to update beliefs or make predictions. Negative probabilities would disrupt the Bayesian framework, leading to inconsistencies in inference and decision-making processes.\n",
        "**Summary-**\n",
        "The requirement for the probability associated with an event to be a positive real number is essential for the meaningful and consistent application of probability theory in various fields. It ensures that probability represents a measure of possibility and aligns with mathematical and physical principles.\n",
        "\n"
      ],
      "metadata": {
        "id": "m3y4Q1BSbrBT"
      }
    },
    {
      "cell_type": "markdown",
      "source": [
        "####**Question-02**\n",
        "####**Solution-**\n",
        "**Summary Statistics:**\n",
        "These statistics provide a summary of the central tendency, variability, and distribution of the data set. They can help you understand the characteristics of the noise levels experienced by individuals in the office.\n",
        "\n",
        "Data points arranged in ascending order-\n",
        "\n",
        "55.3 55.3 55.3 55.9 55.9 55.9 55.9 56.1 56.1 56.1 56.1 56.1 56.1 56.8 56.8 57.0 57.0 57.0 57.8 57.8\n",
        "57.8 57.9 57.9 57.9 58.8 58.8 58.8 59.8 59.8 59.8 62.2 62.2 63.8 63.8 63.8 63.9 63.9 63.9 64.7 64.7\n",
        "64.7 65.1 65.1 65.1 65.3 65.3 65.3 65.3 67.4 67.4 67.4 67.4 68.7 68.7 68.7 68.7 69.0 70.4 70.4 71.2\n",
        "71.2 71.2 73.0 73.0 73.1 73.1 74.6 74.6 74.6 74.6 79.3 79.3 79.3 79.3 83.0 83.0 83.0\n",
        "1. **Mean (Average):** The mean is the sum of all values divided by the number of values.\n",
        "\n",
        "- Mean = (Sum of all values) / (Number of value)\n",
        "       Mean= 64.887 (for above data)\n",
        "       So, the mean (average) noise level experienced by individuals in the office is approximately 64.887 dBA."
      ],
      "metadata": {
        "id": "OBtoJRKLpWx3"
      }
    },
    {
      "cell_type": "code",
      "source": [
        "import statistics as st\n",
        "import numpy as np\n",
        "Data=[55.3,55.3,55.3,55.9,55.9,55.9,55.9,56.1,56.1,56.1,56.1,56.1,56.1,56.8,56.8,57.0,57.0,57.0,57.8,57.8,\n",
        "    57.8,57.9,57.9,57.9,58.8,58.8,58.8,59.8,59.8,59.8,62.2,62.2,63.8,63.8,63.8,63.9,63.9,63.9,64.7,64.7,\n",
        "    64.7,65.1,65.1,65.1,65.3,65.3,65.3,65.3,67.4,67.4,67.4,67.4,68.7,68.7,68.7,68.7,69.0,70.4,70.4,71.2,\n",
        "    71.2,71.2,73.0,73.0,73.1,73.1,74.6,74.6,74.6,74.6,79.3,79.3,79.3,79.3,83.0,83.0,83.0]\n",
        "N=len(Data)\n",
        "print(N)\n",
        "Mean=st.mean(Data)\n",
        "print(Mean)"
      ],
      "metadata": {
        "colab": {
          "base_uri": "https://localhost:8080/"
        },
        "id": "yyUW3Ho1sLma",
        "outputId": "dde0d361-a5c7-4a32-8603-f33b936e599d"
      },
      "execution_count": null,
      "outputs": [
        {
          "output_type": "stream",
          "name": "stdout",
          "text": [
            "77\n",
            "64.88701298701298\n"
          ]
        }
      ]
    },
    {
      "cell_type": "markdown",
      "source": [
        "2. **Median (Middle Value):** The median is the middle value when all the data points are arranged in ascending order.\n",
        "\n",
        "- To find the median, you first need to sort the data.\n",
        "      Median = 64.7 (for above data)"
      ],
      "metadata": {
        "id": "Klj1Ir_X8Ypv"
      }
    },
    {
      "cell_type": "code",
      "source": [
        "Median=np.median(Data)\n",
        "print(Median)"
      ],
      "metadata": {
        "id": "gPnOJRYM8Xf2"
      },
      "execution_count": null,
      "outputs": []
    },
    {
      "cell_type": "markdown",
      "source": [
        "3. **Mode (Most Common Value):** The mode is the value that appears most frequently in the data.\n",
        "       Mode = 56.1"
      ],
      "metadata": {
        "id": "C7It9KCN9zA1"
      }
    },
    {
      "cell_type": "code",
      "source": [
        "\n",
        "Mode=st.mode(Data)\n",
        "print(Mode)"
      ],
      "metadata": {
        "colab": {
          "base_uri": "https://localhost:8080/"
        },
        "id": "vaB8YuI-9n__",
        "outputId": "090a4fa2-737e-42ab-e441-607def407f84"
      },
      "execution_count": null,
      "outputs": [
        {
          "output_type": "stream",
          "name": "stdout",
          "text": [
            "56.1\n"
          ]
        }
      ]
    },
    {
      "cell_type": "markdown",
      "source": [
        "4. **Range (Variability):** The range is the difference between the maximum and minimum values in the data.\n",
        "- Range = Maximum Value - Minimum Value\n",
        "      Range = 83.0 (Maximum) - 55.3 (Minimum) = 27.7\n",
        "5. **Standard Deviation (Measure of Spread):** The standard deviation measures how spread out the data is from the mean. A smaller standard deviation indicates that the data points are closer to the mean.\n",
        "       The formula for standard deviation is:\n",
        "       σ = √(∑(x - μ)^2 / n-1)\n",
        "       σ = 7.803"
      ],
      "metadata": {
        "id": "kbUQFRJV_gXj"
      }
    },
    {
      "cell_type": "code",
      "source": [
        "Std=st.stdev(Data)\n",
        "print(Std)"
      ],
      "metadata": {
        "colab": {
          "base_uri": "https://localhost:8080/"
        },
        "id": "Y6XGHGWbBlzb",
        "outputId": "76afa2d2-0051-4aa6-9775-79c159b81599"
      },
      "execution_count": null,
      "outputs": [
        {
          "output_type": "stream",
          "name": "stdout",
          "text": [
            "7.802670775030389\n"
          ]
        }
      ]
    },
    {
      "cell_type": "markdown",
      "source": [
        "6. **Variance (Spread squared):** Variance is the average of the squared differences from the Mean. It gives you an idea of how data points vary from the mean.\n",
        "\n",
        "- Variance = [(Sum of (X - Mean)^2) / (Number of values-1)]\n",
        "      Variance ≈ 60.882"
      ],
      "metadata": {
        "id": "EHRZFYgGDdgT"
      }
    },
    {
      "cell_type": "code",
      "source": [
        "print(st.variance(Data))"
      ],
      "metadata": {
        "colab": {
          "base_uri": "https://localhost:8080/"
        },
        "id": "ROoNC_tCD5ZT",
        "outputId": "2ec741ba-c0a7-419e-ccf9-74b1590b8752"
      },
      "execution_count": null,
      "outputs": [
        {
          "output_type": "stream",
          "name": "stdout",
          "text": [
            "60.88167122351333\n"
          ]
        }
      ]
    },
    {
      "cell_type": "markdown",
      "source": [
        "Here are some other ways to visualize the data:\n",
        "\n",
        "- **Histogram:** A histogram is a bar chart that shows the frequency of each number in the data set.\n",
        "- **Box plot:** A box plot shows the distribution of the data by displaying the median, quartiles, and outliers.\n",
        "- There are two outliers in the data set, which are the points at 55.3 and 83.0."
      ],
      "metadata": {
        "id": "ZWp1lElVFSrU"
      }
    },
    {
      "cell_type": "code",
      "execution_count": null,
      "metadata": {
        "colab": {
          "base_uri": "https://localhost:8080/",
          "height": 559
        },
        "id": "V4kwOCQZZtBe",
        "outputId": "0c912115-d846-469a-fa90-2df8e8a27b7f"
      },
      "outputs": [
        {
          "output_type": "stream",
          "name": "stdout",
          "text": [
            "First quartile(Q1)=  57.8\n",
            "Third quartile(Q3)=  70.4\n",
            "Inter quartile range =  12.600000000000009\n",
            "Outliers =  []\n"
          ]
        },
        {
          "output_type": "display_data",
          "data": {
            "text/plain": [
              "<Figure size 640x480 with 1 Axes>"
            ],
            "image/png": "[encoded data removed]"
          },
          "metadata": {}
        },
        {
          "output_type": "stream",
          "name": "stdout",
          "text": [
            "[]\n"
          ]
        }
      ],
      "source": [
        "import matplotlib.pyplot as plt\n",
        "import numpy as np\n",
        "\n",
        "# Create the box plot\n",
        "plt.boxplot(Data, patch_artist=True)\n",
        "\n",
        "# Calculate the median\n",
        "median = np.median(Data)\n",
        "\n",
        "# Calculate the quartiles\n",
        "q1 = np.percentile(Data, 25)\n",
        "q3 = np.percentile(Data, 75)\n",
        "print(\"First quartile(Q1)= \",q1)\n",
        "print(\"Third quartile(Q3)= \",q3)\n",
        "# Calculate the interquartile range (IQR)\n",
        "iqr = q3 - q1\n",
        "print(\"Inter quartile range = \",iqr)\n",
        "# Identify the outliers\n",
        "outliers = []\n",
        "for point in Data:\n",
        "    if point < q1 - 1.5 * iqr or point > q3 + 1.5 * iqr:\n",
        "        outliers.append(point)\n",
        "print(\"Outliers = \",outliers)\n",
        "# Add comments to the plot\n",
        "plt.annotate(\"Median: \" + str(median), xy=(median, median), xytext=(median, median), ha=\"center\", va=\"center\", annotation_clip=True, color=\"red\", fontsize=12)\n",
        "plt.annotate(\"Q1: \" + str(q1), xy=(q1, q1), xytext=(q1, q1), ha=\"center\", va=\"center\", annotation_clip=True, color=\"blue\", fontsize=12)\n",
        "plt.annotate(\"Q3: \" + str(q3), xy=(q3, q3), xytext=(q3, q3), ha=\"center\", va=\"center\", annotation_clip=True, color=\"green\", fontsize=12)\n",
        "\n",
        "# Set the title and labels\n",
        "plt.title(\"Box Plot\")\n",
        "plt.xlabel(\"Data Point\")\n",
        "plt.ylabel(\"Value\")\n",
        "\n",
        "# Show the plot\n",
        "plt.show()\n",
        "# Print values\n",
        "print(outliers)"
      ]
    },
    {
      "cell_type": "code",
      "source": [
        "#Histogram for above Data\n",
        "plt.hist(Data)\n",
        "# Set the title and labels\n",
        "plt.title(\"Histogram Plot\")\n",
        "plt.xlabel(\"Data Point Value\")\n",
        "plt.ylabel(\"Frequency\")\n",
        "\n",
        "# Show the plot\n",
        "plt.show()"
      ],
      "metadata": {
        "colab": {
          "base_uri": "https://localhost:8080/",
          "height": 472
        },
        "id": "vbaJ4v2UKXrL",
        "outputId": "f163ec37-3795-45ff-8015-42a26fd8a047"
      },
      "execution_count": null,
      "outputs": [
        {
          "output_type": "display_data",
          "data": {
            "text/plain": [
              "<Figure size 640x480 with 1 Axes>"
            ],
            "image/png": "[encoded data removed]"
          },
          "metadata": {}
        }
      ]
    },
    {
      "cell_type": "markdown",
      "source": [
        "####**Question-03**\n",
        "####**Answer-**\n",
        "**Answer(a)** In the RHS of conditional probability formula \\(P(A|B) = P(A∩B)/P(B)\n",
        "​\n",
        "- **Numerator (P(A ∩ B)):** This represents the probability of both events A and B occurring together. In other words, it's the probability of the intersection of events A and B. It measures the likelihood of both A and B happening at the same time.\n",
        "\n",
        "- **Denominator (P(B)):** This represents the probability of event B occurring. It's the likelihood of event B happening without considering event A. This serves as the \"base\" or the total probability space for which we're calculating the conditional probability of A given B.\n",
        "\n",
        "**Answer(b)** Extending to \\(P(A|B, C, D)\\):\n",
        "\n",
        "For the conditional probability \\(P(A|B, C, D)\\), we're interested in the probability of event A occurring given that events B, C, and D have already occurred. The formula would be:\n",
        "\n",
        " - P(A∣B,C,D)=P(A∩B∩C∩D)/ P(B∩C∩D)\n",
        "\n",
        "Derivation & Reasoning of Formula:\n",
        "\n",
        "- **Numerator (P(A ∩ B ∩ C ∩ D)):** This represents the probability of all events A, B, C, and D occurring together. It's the probability of the intersection of all these events. It measures the likelihood of all these events happening simultaneously.\n",
        "\n",
        "- **Denominator (P(B ∩ C ∩ D)):** This represents the probability of events B, C, and D all occurring together. It's the likelihood of the intersection of these events. This serves as the \"base\" or the total probability space for which we're calculating the conditional probability of A given B, C, and D.\n",
        "\n",
        "To derive this equation, we can start with Bayes' theorem:\n",
        "\n",
        "- P(A|B) = P(B∩A)/ P(B)\n",
        "\n",
        "where:\n",
        "\n",
        "- P(A|B) is the probability of event A occurring given that event B has occurred.\n",
        "- P(A) is the probability of event A occurring.\n",
        "- P(B) is the probability of event B occurring.\n",
        "\n",
        "**Step 1:** From the definition of conditional probability for two events:\n",
        "\n",
        "- P(A∣B)= P(A∩B)/\n",
        "P(B)\n",
        "\n",
        "​This formula represents the probability of A occurring given that B has already occurred.\n",
        "\n",
        "**Step 2:** Now, we want to extend this concept to three events: A, B, and C. We can do this by using the conditional probability formula twice. First, we find the probability of A given both B and C:\n",
        "\n",
        "- P(A∣B,C)=P(A∩B∩C)​/\n",
        "P(B∩C)\n",
        "\n",
        "**Step 3:** Finally, we want to include event D. We can again use the conditional probability formula:\n",
        "\n",
        "- P(A∣B,C,D)= P(A∩B∩C∩D)/\n",
        "P(B∩C∩D)\n",
        "\n",
        "\n",
        "\n",
        "**Reasons for extending the equation:**\n",
        "\n",
        "- The extended equation can be used to calculate the probability of any event occurring given that other events have occurred. This is a powerful tool that can be used in many different areas, such as machine learning, statistics, and finance.\n",
        "\n",
        "**summary:**\n",
        "\n",
        "\\(P(A|B, C, D)\\) is the probability of A happening given that B, C, and D have already happened. The formula is an extension of the conditional probability concept to multiple events.\n",
        "\n",
        "**Answer(c)**\n",
        "To solve this problem, we can use the Bayes' theorem and create a tree diagram to visualize the probabilities involved. Bayes' theorem allows us to calculate the posterior probability of an event (the taxi being blue) given new evidence (the eyewitness report)\n",
        "\n",
        "**Step 1: Prior Probabilities**\n",
        "- Probability that a taxi is operated by Blue Cab P(B): 15% or 0.15\n",
        "- Probability that a taxi is operated by Green Cab P(G): 85% or 0.85\n",
        "\n",
        "**Step 2: Conditional Probability**\n",
        "\n",
        "The eyewitness said the vehicle was blue, so we need to calculate the conditional probability that the eyewitness correctly identified the color of the taxi, given that it was indeed blue:\n",
        "- Probability of correctly identifying a blue vehicle (P(Correct|Blue)): 80% or 0.80\n",
        "- Probability of incorrectly identifying a green vehicle as blue (P(Wrong|Green)): 20% or 0.20\n",
        "\n",
        "**Step 3: Applying Bayes' Theorem**\n",
        "\n",
        "Now, we can apply Bayes' theorem to calculate the posterior probability (P(Blue | Correct)) that the taxi was blue given the eyewitness's report:\n",
        "\n",
        "P(Blue∣Correct)= P(Correct∣Blue)⋅P(Blue)/\n",
        "P(Correct)\n",
        "\n",
        "We need to calculate P(Correct), which is the probability of the eyewitness's report being correct, regardless of whether the taxi is blue or green.\n",
        "\n",
        "To do this, we can use the law of total probability:\n",
        "\n",
        "P(Correct)=P(Correct∣Blue)⋅P(Blue)+P(Correct∣Green)⋅P(Green)\n",
        "\n",
        "​P(Correct)=(0.80⋅0.15)+(0.20⋅0.85)\n",
        "\n",
        "P(Correct)=0.12+0.17\n",
        "\n",
        "P(Correct)=0.29\n",
        "\n",
        "Now that we have P(Correct), we can calculate the posterior probability\n",
        "P(Blue∣Correct):=0.80*0.15/0.29\n",
        "P(Blue∣Correct)= 0.4138\n",
        "\n",
        "So, the posterior probability that the taxi at fault was blue, given the eyewitness's report that it was blue, is approximately 0.4138 or 41.38%.\n",
        "\n"
      ],
      "metadata": {
        "id": "TOmlFHX_ULbb"
      }
    },
    {
      "cell_type": "markdown",
      "source": [
        "####**Question-04**\n",
        "####**Answer-**\n",
        "Let's denote the number of pumps in use at the six-pump station as \\(X\\) and the number of pumps in use at the four-pump station as \\(Y\\).\n",
        "\n",
        "We want to find the possible values for \\(n\\), which is the number of stations having exactly two pumps in use.\n",
        "\n",
        "In this scenario, there are two stations, a six-pump station and a four-pump station. The possible values for \\(X\\) and \\(Y\\) can be any non-negative integers from 0 to 6 (for \\(X\\)) and from 0 to 4 (for \\(Y\\)) respectively.\n",
        "\n",
        "The total number of stations with exactly two pumps in use (\\(n\\)) can be calculated by considering the combinations of \\(X\\) and \\(Y\\) that satisfy the condition.\n",
        "\n",
        "Here are the possible combinations:\n",
        "\n",
        "1. \\(X = 2\\) and \\(Y = 0\\)\n",
        "2. \\(X = 1\\) and \\(Y = 1\\)\n",
        "3. \\(X = 0\\) and \\(Y = 2\\)\n",
        "\n",
        "For each of these combinations, exactly two pumps are in use. Therefore, the possible values for \\(n\\) are:\n",
        "\n",
        "- When \\(X = 2\\) and \\(Y = 0\\), one station has exactly two pumps in use.\n",
        "- When \\(X = 1\\) and \\(Y = 1\\), two stations have exactly two pumps in use.\n",
        "- When \\(X = 0\\) and \\(Y = 2\\), one station has exactly two pumps in use.\n",
        "\n",
        "So, there are a total of four stations where exactly two pumps are in use."
      ],
      "metadata": {
        "id": "nAl3EzYlj53x"
      }
    },
    {
      "cell_type": "markdown",
      "source": [
        "####**Question-05**\n",
        "####**Answer-**\n",
        "The pmf gives the probability associated with each specific value of X.\n",
        "\n",
        " **(a): Finding the pmf of X**\n",
        "\n",
        " pmf of X is calculated by taking the difference between consecutive values of the cdf. The pmf of X is denoted as p(x).\n",
        "1. For x < 1: p(x) = F(x) - F(x-) = 0 - 0 = 0.\n",
        "\n",
        "2. For 1 ≤ x < 3: p(x) = F(x≤3) - F(x≤1) = 0.30 - 0 = 0.30.\n",
        "\n",
        "3. For 3 ≤ x < 4: p(x) = F(x≤4) - F(x≤3) = 0.40 - 0.30 = 0.10.\n",
        "\n",
        "4. For 4 ≤ x < 6: p(x) = F(x≤6) - F(x≤4) = 0.45 - 0.40 = 0.05.\n",
        "\n",
        "5. For 6 ≤ x < 12: p(x) = F(x≤12) - F(x≤6) = 0.60 - 0.45 = 0.15.\n",
        "\n",
        "6. For x ≥ 12: p(x) = F(x>12) - F(x≤12) = 1 - 0.60 = 0.40.\n",
        "\n",
        "So, the pmf of X is as follows:\n",
        "p(x) = {\n",
        "  - 0 for x < 1\n",
        "  - 0.30 for 1 ≤ x < 3\n",
        "  - 0.10 for 3 ≤ x < 4\n",
        "  - 0.05 for 4 ≤ x < 6\n",
        "  - 0.15 for 6 ≤ x < 12\n",
        "  - 0.40 for x ≥ 12\n",
        "}\n",
        "\n",
        "**(b):** Using the cdf to compute probabilities\n",
        "\n",
        "Using the cdf, we can compute the following probabilities:\n",
        "\n",
        "1. P(3 ≤ X ≤ 6) is the probability that X is between 3 and 6:\n",
        "\n",
        "- P(3 ≤ X ≤ 6) = F(6) - F(3) = 0.60 - 0.40 = 0.20.\n",
        "\n",
        "2. P(4 ≤ X) is the probability that X is greater than or equal to 4:\n",
        "\n",
        "- P(4 ≤ X) = 1 - F(x≤4) = 1 - 0.40 = 0.60.\n",
        "\n",
        "So, P(3 ≤ X ≤ 6) = 0.20, and P(4 ≤ X) = 0.60."
      ],
      "metadata": {
        "id": "d9IFsan9-IcM"
      }
    },
    {
      "cell_type": "markdown",
      "source": [
        "####**Question-06**\n",
        "####**Answer-**\n",
        "**Step 1:Given probabilities**\n",
        "\n",
        "- Probability of a telephone being submitted for service under warranty (P(S_Warranty)) = 20% = 0.20.\n",
        "- Probability that a submitted phone can be repaired (P(Repaired | S_Warranty)) = 60% = 0.60.\n",
        "- Probability that a submitted phone must be replaced (P(Replaced | S_Warranty)) = 40% = 0.40.\n",
        "\n",
        "**Step 2: Use the binomial probability formula**\n",
        "\n",
        "We're interested in finding the probability that exactly two out of ten phones are replaced under warranty. This is a binomial probability problem, where we have a fixed number of trials (10 phones) and we're interested in a specific number of successes (2 replacements).\n",
        "The binomial probability formula is:\n",
        "\n",
        "- P(X=k)=(n,k)⋅p^k⋅(1−p)^n−k\n"
      ],
      "metadata": {
        "id": "rzg8C6T8ENoG"
      }
    }
  ]
}